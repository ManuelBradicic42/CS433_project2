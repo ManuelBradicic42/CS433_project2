{
 "cells": [
  {
   "cell_type": "markdown",
   "metadata": {},
   "source": [
    "# Data Generation"
   ]
  },
  {
   "cell_type": "code",
   "execution_count": 1,
   "metadata": {},
   "outputs": [],
   "source": [
    "from image_setup import *\n",
    "from image_generation import *\n",
    "from image_processing import *\n",
    "from data_generation import *"
   ]
  },
  {
   "cell_type": "code",
   "execution_count": 2,
   "metadata": {},
   "outputs": [
    {
     "data": {
      "text/plain": [
       "{'data_output_folder': 'data',\n",
       " 'fonts_folder': 'fonts',\n",
       " 'moves_distribution_file': 'all_moves_proba.txt',\n",
       " 'text_colors': ['black', 'navy', 'blue'],\n",
       " 'background_colors': ['white', 'lightgrey', 'beige', 'ivory'],\n",
       " 'line_styles': ['solid', 'dashed'],\n",
       " 'line_colors': ['black', 'grey']}"
      ]
     },
     "execution_count": 2,
     "metadata": {},
     "output_type": "execute_result"
    }
   ],
   "source": [
    "config_setup"
   ]
  },
  {
   "cell_type": "code",
   "execution_count": 3,
   "metadata": {},
   "outputs": [
    {
     "data": {
      "image/jpeg": "[encoded data removed]",
      "image/png": "[encoded data removed]",
      "text/plain": [
       "<PIL.PngImagePlugin.PngImageFile image mode=L size=192x84>"
      ]
     },
     "execution_count": 3,
     "metadata": {},
     "output_type": "execute_result"
    }
   ],
   "source": [
    "random.seed(0)\n",
    "np.random.seed(0)\n",
    "generate_images(10, config_setup, config_process, config_characters, box=True)\n",
    "img = Image.open('data/0.png')\n",
    "img"
   ]
  },
  {
   "cell_type": "code",
   "execution_count": 4,
   "metadata": {},
   "outputs": [
    {
     "data": {
      "image/jpeg": "[encoded data removed]",
      "image/png": "[encoded data removed]",
      "text/plain": [
       "<PIL.PngImagePlugin.PngImageFile image mode=L size=192x84>"
      ]
     },
     "execution_count": 4,
     "metadata": {},
     "output_type": "execute_result"
    }
   ],
   "source": [
    "random.seed(0)\n",
    "np.random.seed(0)\n",
    "generate_images(10, config_setup, config_process, config_characters, box=True)\n",
    "img = Image.open('data/0.png')\n",
    "img"
   ]
  },
  {
   "cell_type": "code",
   "execution_count": 5,
   "metadata": {},
   "outputs": [],
   "source": [
    "config_setup['data_output_folder'] = 'data_only_text'\n",
    "generate_images(10000, config_setup, config_process=None, config_characters=None, box=False)"
   ]
  },
  {
   "cell_type": "code",
   "execution_count": 6,
   "metadata": {},
   "outputs": [],
   "source": [
    "config_setup['data_output_folder'] = 'data_no_processing'\n",
    "generate_images(10000, config_setup, config_process=None, config_characters=None, box=True)"
   ]
  },
  {
   "cell_type": "code",
   "execution_count": 7,
   "metadata": {},
   "outputs": [],
   "source": [
    "config_setup['data_output_folder'] = 'data_full'\n",
    "generate_images(10000, config_setup, config_process, config_characters, True)"
   ]
  }
 ],
 "metadata": {
  "kernelspec": {
   "display_name": "CS433",
   "language": "python",
   "name": "python3"
  },
  "language_info": {
   "codemirror_mode": {
    "name": "ipython",
    "version": 3
   },
   "file_extension": ".py",
   "mimetype": "text/x-python",
   "name": "python",
   "nbconvert_exporter": "python",
   "pygments_lexer": "ipython3",
   "version": "3.10.13"
  }
 },
 "nbformat": 4,
 "nbformat_minor": 2
}
